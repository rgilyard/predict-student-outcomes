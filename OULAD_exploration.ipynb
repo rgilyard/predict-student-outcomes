{
  "nbformat": 4,
  "nbformat_minor": 0,
  "metadata": {
    "colab": {
      "provenance": [],
      "authorship_tag": "ABX9TyOUhVxSbqsji1IHO86p5j6V",
      "include_colab_link": true
    },
    "kernelspec": {
      "name": "python3",
      "display_name": "Python 3"
    },
    "language_info": {
      "name": "python"
    }
  },
  "cells": [
    {
      "cell_type": "markdown",
      "metadata": {
        "id": "view-in-github",
        "colab_type": "text"
      },
      "source": [
        "<a href=\"https://colab.research.google.com/github/rgilyard/predict-student-outcomes/blob/main/OULAD_exploration.ipynb\" target=\"_parent\"><img src=\"https://colab.research.google.com/assets/colab-badge.svg\" alt=\"Open In Colab\"/></a>"
      ]
    },
    {
      "cell_type": "markdown",
      "source": [
        "# Notebook for loading database and creating new dataset\n",
        "\n"
      ],
      "metadata": {
        "id": "BtlfMl9jw-0U"
      }
    },
    {
      "cell_type": "markdown",
      "source": [
        "## Constants"
      ],
      "metadata": {
        "id": "TPhTyrBCxOSm"
      }
    },
    {
      "cell_type": "code",
      "execution_count": 12,
      "metadata": {
        "id": "k2Iy102NJzPN"
      },
      "outputs": [],
      "source": [
        "DATABASE_PATH = '/content/drive/MyDrive/COMP 542 Group Project/test.db'"
      ]
    },
    {
      "cell_type": "markdown",
      "source": [
        "## Mount google drive"
      ],
      "metadata": {
        "id": "edxHEJx8xfrM"
      }
    },
    {
      "cell_type": "code",
      "source": [
        "from google.colab import drive\n",
        "drive.mount('/content/drive')"
      ],
      "metadata": {
        "colab": {
          "base_uri": "https://localhost:8080/"
        },
        "id": "AZPJKoy4w99Q",
        "outputId": "d6c4cc80-1060-474a-f32b-b8770dea4d13"
      },
      "execution_count": 13,
      "outputs": [
        {
          "output_type": "stream",
          "name": "stdout",
          "text": [
            "Drive already mounted at /content/drive; to attempt to forcibly remount, call drive.mount(\"/content/drive\", force_remount=True).\n"
          ]
        }
      ]
    },
    {
      "cell_type": "markdown",
      "source": [
        "## Import Libraries"
      ],
      "metadata": {
        "id": "7dGE1xi8xjPh"
      }
    },
    {
      "cell_type": "code",
      "source": [
        "import sqlite3"
      ],
      "metadata": {
        "id": "ipEHiY5Kw9_m"
      },
      "execution_count": 14,
      "outputs": []
    },
    {
      "cell_type": "markdown",
      "source": [
        "## Explore Database"
      ],
      "metadata": {
        "id": "qr6ydK7dzmI4"
      }
    },
    {
      "cell_type": "code",
      "source": [
        "conn = sqlite3.connect(DATABASE_PATH)\n",
        "c = conn.cursor()"
      ],
      "metadata": {
        "id": "RVxzIVX1w-CM"
      },
      "execution_count": 15,
      "outputs": []
    },
    {
      "cell_type": "code",
      "source": [
        "# Get list of tables in the database\n",
        "c.execute(\"SELECT name FROM sqlite_master WHERE type='table';\")\n",
        "tables = c.fetchall()"
      ],
      "metadata": {
        "id": "eHLFbWgNw-Ea"
      },
      "execution_count": 16,
      "outputs": []
    },
    {
      "cell_type": "code",
      "source": [
        "print(tables)"
      ],
      "metadata": {
        "colab": {
          "base_uri": "https://localhost:8080/"
        },
        "id": "D4X1rLVx4Bse",
        "outputId": "db3f539c-592e-485b-a5e9-7b9b877a6e77"
      },
      "execution_count": 17,
      "outputs": [
        {
          "output_type": "stream",
          "name": "stdout",
          "text": [
            "[('studentAssessment',), ('studentVle',), ('vle',), ('studentInfo',), ('assessments',), ('studentRegistration',), ('courses',)]\n"
          ]
        }
      ]
    },
    {
      "cell_type": "code",
      "source": [
        "# Loop through all tables\n",
        "for table in tables:\n",
        "    table_name = table[0]\n",
        "    print(f\"Table: {table_name}\")\n",
        "\n",
        "    # Print schema\n",
        "    c.execute(f\"PRAGMA table_info({table_name})\")\n",
        "    schema = c.fetchall()\n",
        "    print(\"Schema:\")\n",
        "    for column in schema:\n",
        "        print(column)\n",
        "\n",
        "    # Print first 5 rows\n",
        "    c.execute(f\"SELECT * FROM {table_name} LIMIT 5\")\n",
        "    first_five_rows = c.fetchall()\n",
        "    print(\"First 5 Rows:\")\n",
        "    for row in first_five_rows:\n",
        "        print(row)\n",
        "\n",
        "    print(\"------\")\n",
        "\n",
        "# Close the connection\n",
        "conn.close()"
      ],
      "metadata": {
        "colab": {
          "base_uri": "https://localhost:8080/"
        },
        "id": "wOnD3n3qw-G7",
        "outputId": "7783d8a5-c140-4fde-850a-43ef47573d8c"
      },
      "execution_count": 18,
      "outputs": [
        {
          "output_type": "stream",
          "name": "stdout",
          "text": [
            "Table: studentAssessment\n",
            "Schema:\n",
            "(0, 'id_assessment', 'INTEGER', 0, None, 0)\n",
            "(1, 'id_student', 'INTEGER', 0, None, 0)\n",
            "(2, 'date_submitted', 'INTEGER', 0, None, 0)\n",
            "(3, 'is_banked', 'INTEGER', 0, None, 0)\n",
            "(4, 'score', 'REAL', 0, None, 0)\n",
            "First 5 Rows:\n",
            "(1752, 11391, 18, 0, 78.0)\n",
            "(1752, 28400, 22, 0, 70.0)\n",
            "(1752, 31604, 17, 0, 72.0)\n",
            "(1752, 32885, 26, 0, 69.0)\n",
            "(1752, 38053, 19, 0, 79.0)\n",
            "------\n",
            "Table: studentVle\n",
            "Schema:\n",
            "(0, 'code_module', 'TEXT', 0, None, 0)\n",
            "(1, 'code_presentation', 'TEXT', 0, None, 0)\n",
            "(2, 'id_student', 'INTEGER', 0, None, 0)\n",
            "(3, 'id_site', 'INTEGER', 0, None, 0)\n",
            "(4, 'date', 'INTEGER', 0, None, 0)\n",
            "(5, 'sum_click', 'INTEGER', 0, None, 0)\n",
            "First 5 Rows:\n",
            "('AAA', '2013J', 28400, 546652, -10, 4)\n",
            "('AAA', '2013J', 28400, 546652, -10, 1)\n",
            "('AAA', '2013J', 28400, 546652, -10, 1)\n",
            "('AAA', '2013J', 28400, 546614, -10, 11)\n",
            "('AAA', '2013J', 28400, 546714, -10, 1)\n",
            "------\n",
            "Table: vle\n",
            "Schema:\n",
            "(0, 'id_site', 'INTEGER', 0, None, 0)\n",
            "(1, 'code_module', 'TEXT', 0, None, 0)\n",
            "(2, 'code_presentation', 'TEXT', 0, None, 0)\n",
            "(3, 'activity_type', 'TEXT', 0, None, 0)\n",
            "(4, 'week_from', 'REAL', 0, None, 0)\n",
            "(5, 'week_to', 'REAL', 0, None, 0)\n",
            "First 5 Rows:\n",
            "(546943, 'AAA', '2013J', 'resource', None, None)\n",
            "(546712, 'AAA', '2013J', 'oucontent', None, None)\n",
            "(546998, 'AAA', '2013J', 'resource', None, None)\n",
            "(546888, 'AAA', '2013J', 'url', None, None)\n",
            "(547035, 'AAA', '2013J', 'resource', None, None)\n",
            "------\n",
            "Table: studentInfo\n",
            "Schema:\n",
            "(0, 'code_module', 'TEXT', 0, None, 0)\n",
            "(1, 'code_presentation', 'TEXT', 0, None, 0)\n",
            "(2, 'id_student', 'INTEGER', 0, None, 0)\n",
            "(3, 'gender', 'TEXT', 0, None, 0)\n",
            "(4, 'region', 'TEXT', 0, None, 0)\n",
            "(5, 'highest_education', 'TEXT', 0, None, 0)\n",
            "(6, 'imd_band', 'TEXT', 0, None, 0)\n",
            "(7, 'age_band', 'TEXT', 0, None, 0)\n",
            "(8, 'num_of_prev_attempts', 'INTEGER', 0, None, 0)\n",
            "(9, 'studied_credits', 'INTEGER', 0, None, 0)\n",
            "(10, 'disability', 'TEXT', 0, None, 0)\n",
            "(11, 'final_result', 'TEXT', 0, None, 0)\n",
            "First 5 Rows:\n",
            "('AAA', '2013J', 11391, 'M', 'East Anglian Region', 'HE Qualification', '90-100%', '55<=', 0, 240, 'N', 'Pass')\n",
            "('AAA', '2013J', 28400, 'F', 'Scotland', 'HE Qualification', '20-30%', '35-55', 0, 60, 'N', 'Pass')\n",
            "('AAA', '2013J', 30268, 'F', 'North Western Region', 'A Level or Equivalent', '30-40%', '35-55', 0, 60, 'Y', 'Withdrawn')\n",
            "('AAA', '2013J', 31604, 'F', 'South East Region', 'A Level or Equivalent', '50-60%', '35-55', 0, 60, 'N', 'Pass')\n",
            "('AAA', '2013J', 32885, 'F', 'West Midlands Region', 'Lower Than A Level', '50-60%', '0-35', 0, 60, 'N', 'Pass')\n",
            "------\n",
            "Table: assessments\n",
            "Schema:\n",
            "(0, 'code_module', 'TEXT', 0, None, 0)\n",
            "(1, 'code_presentation', 'TEXT', 0, None, 0)\n",
            "(2, 'id_assessment', 'INTEGER', 0, None, 0)\n",
            "(3, 'assessment_type', 'TEXT', 0, None, 0)\n",
            "(4, 'date', 'REAL', 0, None, 0)\n",
            "(5, 'weight', 'REAL', 0, None, 0)\n",
            "First 5 Rows:\n",
            "('AAA', '2013J', 1752, 'TMA', 19.0, 10.0)\n",
            "('AAA', '2013J', 1753, 'TMA', 54.0, 20.0)\n",
            "('AAA', '2013J', 1754, 'TMA', 117.0, 20.0)\n",
            "('AAA', '2013J', 1755, 'TMA', 166.0, 20.0)\n",
            "('AAA', '2013J', 1756, 'TMA', 215.0, 30.0)\n",
            "------\n",
            "Table: studentRegistration\n",
            "Schema:\n",
            "(0, 'code_module', 'TEXT', 0, None, 0)\n",
            "(1, 'code_presentation', 'TEXT', 0, None, 0)\n",
            "(2, 'id_student', 'INTEGER', 0, None, 0)\n",
            "(3, 'date_registration', 'REAL', 0, None, 0)\n",
            "(4, 'date_unregistration', 'REAL', 0, None, 0)\n",
            "First 5 Rows:\n",
            "('AAA', '2013J', 11391, -159.0, None)\n",
            "('AAA', '2013J', 28400, -53.0, None)\n",
            "('AAA', '2013J', 30268, -92.0, 12.0)\n",
            "('AAA', '2013J', 31604, -52.0, None)\n",
            "('AAA', '2013J', 32885, -176.0, None)\n",
            "------\n",
            "Table: courses\n",
            "Schema:\n",
            "(0, 'code_module', 'TEXT', 0, None, 0)\n",
            "(1, 'code_presentation', 'TEXT', 0, None, 0)\n",
            "(2, 'module_presentation_length', 'INTEGER', 0, None, 0)\n",
            "First 5 Rows:\n",
            "('AAA', '2013J', 268)\n",
            "('AAA', '2014J', 269)\n",
            "('BBB', '2013J', 268)\n",
            "('BBB', '2014J', 262)\n",
            "('BBB', '2013B', 240)\n",
            "------\n"
          ]
        }
      ]
    },
    {
      "cell_type": "code",
      "source": [],
      "metadata": {
        "id": "BHubRegew-JP"
      },
      "execution_count": 18,
      "outputs": []
    },
    {
      "cell_type": "code",
      "source": [],
      "metadata": {
        "id": "nchMHOvmw-Lr"
      },
      "execution_count": 18,
      "outputs": []
    },
    {
      "cell_type": "code",
      "source": [],
      "metadata": {
        "id": "zsjTnKbPw-N9"
      },
      "execution_count": 18,
      "outputs": []
    },
    {
      "cell_type": "code",
      "source": [],
      "metadata": {
        "id": "qODWmV9bw-Pz"
      },
      "execution_count": 18,
      "outputs": []
    },
    {
      "cell_type": "code",
      "source": [],
      "metadata": {
        "id": "hyatBbKBw-TN"
      },
      "execution_count": 18,
      "outputs": []
    }
  ]
}