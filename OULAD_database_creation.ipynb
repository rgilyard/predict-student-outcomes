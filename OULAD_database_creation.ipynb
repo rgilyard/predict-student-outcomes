{
  "nbformat": 4,
  "nbformat_minor": 0,
  "metadata": {
    "colab": {
      "provenance": [],
      "mount_file_id": "1EcR0pl9hNO1ICR6RN3ScrJKeNe8VuIU8",
      "authorship_tag": "ABX9TyNiU6tUbSR8JV+BPLqkiDgF",
      "include_colab_link": true
    },
    "kernelspec": {
      "name": "python3",
      "display_name": "Python 3"
    },
    "language_info": {
      "name": "python"
    }
  },
  "cells": [
    {
      "cell_type": "markdown",
      "metadata": {
        "id": "view-in-github",
        "colab_type": "text"
      },
      "source": [
        "<a href=\"https://colab.research.google.com/github/rgilyard/predict-student-outcomes/blob/main/OULAD_database_creation.ipynb\" target=\"_parent\"><img src=\"https://colab.research.google.com/assets/colab-badge.svg\" alt=\"Open In Colab\"/></a>"
      ]
    },
    {
      "cell_type": "markdown",
      "source": [
        "# Notebook for loading csv files and converting to database"
      ],
      "metadata": {
        "id": "Bd8UNIbM8Xm1"
      }
    },
    {
      "cell_type": "markdown",
      "source": [
        "## Constants"
      ],
      "metadata": {
        "id": "QDtGiDtpGgSI"
      }
    },
    {
      "cell_type": "code",
      "source": [
        "DATA_PATH = '/content/drive/MyDrive/COMP 542 Group Project/anonymisedData'\n",
        "WORKSPACE_PATH = '/content/drive/MyDrive/COMP 542 Group Project'"
      ],
      "metadata": {
        "id": "ZSDJtmZnGi2A"
      },
      "execution_count": null,
      "outputs": []
    },
    {
      "cell_type": "markdown",
      "source": [
        "## Mount google drive"
      ],
      "metadata": {
        "id": "iZRhNnDB_kE3"
      }
    },
    {
      "cell_type": "code",
      "execution_count": null,
      "metadata": {
        "colab": {
          "base_uri": "https://localhost:8080/"
        },
        "id": "U_fAXJCpwSNz",
        "outputId": "2f6340f1-3121-4453-f981-5d9681ad586f"
      },
      "outputs": [
        {
          "output_type": "stream",
          "name": "stdout",
          "text": [
            "Drive already mounted at /content/drive; to attempt to forcibly remount, call drive.mount(\"/content/drive\", force_remount=True).\n"
          ]
        }
      ],
      "source": [
        "from google.colab import drive\n",
        "drive.mount('/content/drive')"
      ]
    },
    {
      "cell_type": "markdown",
      "source": [
        "## Import Libraries"
      ],
      "metadata": {
        "id": "tXIthMJ4BKhx"
      }
    },
    {
      "cell_type": "code",
      "source": [
        "import pandas as pd\n",
        "import sqlite3\n",
        "import os"
      ],
      "metadata": {
        "id": "g9sNJr-Z8Q88"
      },
      "execution_count": null,
      "outputs": []
    },
    {
      "cell_type": "markdown",
      "source": [
        "## Create database"
      ],
      "metadata": {
        "id": "V0Fy3bUlBQIg"
      }
    },
    {
      "cell_type": "code",
      "source": [
        "conn = sqlite3.connect('oulad.db')"
      ],
      "metadata": {
        "id": "QcEbUGua8RxG"
      },
      "execution_count": null,
      "outputs": []
    },
    {
      "cell_type": "markdown",
      "source": [
        "## Load CSVs and populate database"
      ],
      "metadata": {
        "id": "I-rH2k0HDD-4"
      }
    },
    {
      "cell_type": "code",
      "source": [
        "# Loop through each CSV file in the folder\n",
        "for filename in os.listdir(DATA_PATH):\n",
        "  if filename.endswith('.csv'):\n",
        "    # Construct the full file path\n",
        "    file_path = os.path.join(DATA_PATH, filename)\n",
        "\n",
        "    # Read the CSV file into a DataFrame\n",
        "    df = pd.read_csv(file_path)\n",
        "\n",
        "    # Remove the '.csv' from the filename to use as the table name\n",
        "    table_name = filename[:-4]\n",
        "\n",
        "    # Write the DataFrame to the SQLite database\n",
        "    df.to_sql(table_name, conn, if_exists='replace', index=False)"
      ],
      "metadata": {
        "id": "1JxXoksH8R9S"
      },
      "execution_count": null,
      "outputs": []
    },
    {
      "cell_type": "code",
      "source": [
        "conn.commit()\n",
        "conn.close()"
      ],
      "metadata": {
        "id": "RzvUS9y68SHC"
      },
      "execution_count": null,
      "outputs": []
    },
    {
      "cell_type": "markdown",
      "source": [
        "## Save"
      ],
      "metadata": {
        "id": "Ze-6iNu3ISCG"
      }
    },
    {
      "cell_type": "code",
      "source": [
        "import shutil\n",
        "\n",
        "# Copy the .db file to the destination folder\n",
        "shutil.copy('oulad.db', WORKSPACE_PATH)"
      ],
      "metadata": {
        "colab": {
          "base_uri": "https://localhost:8080/",
          "height": 35
        },
        "id": "hvhFJ0k28SQX",
        "outputId": "268219a6-72c7-4089-c412-88f2edabd938"
      },
      "execution_count": null,
      "outputs": [
        {
          "output_type": "execute_result",
          "data": {
            "text/plain": [
              "'/content/drive/MyDrive/COMP 542 Group Project/oulad.db'"
            ],
            "application/vnd.google.colaboratory.intrinsic+json": {
              "type": "string"
            }
          },
          "metadata": {},
          "execution_count": 14
        }
      ]
    }
  ]
}