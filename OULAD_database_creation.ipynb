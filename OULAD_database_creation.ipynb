{
  "nbformat": 4,
  "nbformat_minor": 0,
  "metadata": {
    "colab": {
      "provenance": [],
      "mount_file_id": "1EcR0pl9hNO1ICR6RN3ScrJKeNe8VuIU8",
      "authorship_tag": "ABX9TyMg6r6jedy2b8qII3+omsly",
      "include_colab_link": true
    },
    "kernelspec": {
      "name": "python3",
      "display_name": "Python 3"
    },
    "language_info": {
      "name": "python"
    }
  },
  "cells": [
    {
      "cell_type": "markdown",
      "metadata": {
        "id": "view-in-github",
        "colab_type": "text"
      },
      "source": [
        "<a href=\"https://colab.research.google.com/github/rgilyard/predict-student-outcomes/blob/main/OULAD_database_creation.ipynb\" target=\"_parent\"><img src=\"https://colab.research.google.com/assets/colab-badge.svg\" alt=\"Open In Colab\"/></a>"
      ]
    },
    {
      "cell_type": "markdown",
      "source": [
        "# Notebook for loading csv files and converting to database"
      ],
      "metadata": {
        "id": "Bd8UNIbM8Xm1"
      }
    },
    {
      "cell_type": "markdown",
      "source": [
        "## Mount google drive"
      ],
      "metadata": {
        "id": "iZRhNnDB_kE3"
      }
    },
    {
      "cell_type": "code",
      "execution_count": 3,
      "metadata": {
        "colab": {
          "base_uri": "https://localhost:8080/"
        },
        "id": "U_fAXJCpwSNz",
        "outputId": "966b958d-df1a-4ddc-ea9f-8511c11bee2a"
      },
      "outputs": [
        {
          "output_type": "stream",
          "name": "stdout",
          "text": [
            "Drive already mounted at /content/drive; to attempt to forcibly remount, call drive.mount(\"/content/drive\", force_remount=True).\n"
          ]
        }
      ],
      "source": [
        "from google.colab import drive\n",
        "drive.mount('/content/drive')"
      ]
    },
    {
      "cell_type": "markdown",
      "source": [
        "## Import Libraries"
      ],
      "metadata": {
        "id": "tXIthMJ4BKhx"
      }
    },
    {
      "cell_type": "code",
      "source": [
        "import pandas as pd\n",
        "import sqlite3\n",
        "import os"
      ],
      "metadata": {
        "id": "g9sNJr-Z8Q88"
      },
      "execution_count": 4,
      "outputs": []
    },
    {
      "cell_type": "markdown",
      "source": [
        "## Create database"
      ],
      "metadata": {
        "id": "V0Fy3bUlBQIg"
      }
    },
    {
      "cell_type": "code",
      "source": [
        "conn = sqlite3.connect('test.db')"
      ],
      "metadata": {
        "id": "QcEbUGua8RxG"
      },
      "execution_count": 5,
      "outputs": []
    },
    {
      "cell_type": "markdown",
      "source": [
        "## Load CSVs and populate database"
      ],
      "metadata": {
        "id": "I-rH2k0HDD-4"
      }
    },
    {
      "cell_type": "code",
      "source": [],
      "metadata": {
        "id": "1JxXoksH8R9S"
      },
      "execution_count": 5,
      "outputs": []
    },
    {
      "cell_type": "code",
      "source": [],
      "metadata": {
        "id": "RzvUS9y68SHC"
      },
      "execution_count": 5,
      "outputs": []
    },
    {
      "cell_type": "code",
      "source": [],
      "metadata": {
        "id": "hvhFJ0k28SQX"
      },
      "execution_count": 5,
      "outputs": []
    },
    {
      "cell_type": "code",
      "source": [],
      "metadata": {
        "id": "gRLXvGcP8Sat"
      },
      "execution_count": 5,
      "outputs": []
    }
  ]
}