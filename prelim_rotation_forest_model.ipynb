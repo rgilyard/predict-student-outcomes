{
  "nbformat": 4,
  "nbformat_minor": 0,
  "metadata": {
    "colab": {
      "provenance": [],
      "toc_visible": true,
      "authorship_tag": "ABX9TyOV7qF6/znPkpzVHMmyHuwc",
      "include_colab_link": true
    },
    "kernelspec": {
      "name": "python3",
      "display_name": "Python 3"
    },
    "language_info": {
      "name": "python"
    }
  },
  "cells": [
    {
      "cell_type": "markdown",
      "metadata": {
        "id": "view-in-github",
        "colab_type": "text"
      },
      "source": [
        "<a href=\"https://colab.research.google.com/github/rgilyard/predict-student-outcomes/blob/main/prelim_rotation_forest_model.ipynb\" target=\"_parent\"><img src=\"https://colab.research.google.com/assets/colab-badge.svg\" alt=\"Open In Colab\"/></a>"
      ]
    },
    {
      "cell_type": "markdown",
      "source": [
        "# Preliminary Results for a Rotation Forest Classifier for Student Failure and Dropout Prediction"
      ],
      "metadata": {
        "id": "YfIoAQNG9nwZ"
      }
    },
    {
      "cell_type": "markdown",
      "source": [
        "## Constants"
      ],
      "metadata": {
        "id": "_0eY06xZ99gn"
      }
    },
    {
      "cell_type": "code",
      "execution_count": null,
      "metadata": {
        "id": "KG2J95fu75r5"
      },
      "outputs": [],
      "source": [
        "DATA_PATH = '/content/drive/MyDrive/COMP 542 Group Project/prelim_sample_engineered_student_info.csv'"
      ]
    },
    {
      "cell_type": "markdown",
      "source": [
        "## Mount Google Drive"
      ],
      "metadata": {
        "id": "mkxV-oZ99pFb"
      }
    },
    {
      "cell_type": "code",
      "source": [
        "from google.colab import drive\n",
        "drive.mount('/content/drive')"
      ],
      "metadata": {
        "colab": {
          "base_uri": "https://localhost:8080/"
        },
        "id": "yde0R9ki9pP6",
        "outputId": "74ec69cd-2758-4cbc-b84a-206710770b18"
      },
      "execution_count": null,
      "outputs": [
        {
          "output_type": "stream",
          "name": "stdout",
          "text": [
            "Mounted at /content/drive\n"
          ]
        }
      ]
    },
    {
      "cell_type": "markdown",
      "source": [
        "## Libraries"
      ],
      "metadata": {
        "id": "IB9CeEtK9ny_"
      }
    },
    {
      "cell_type": "code",
      "source": [
        "import pandas as pd\n",
        "import time"
      ],
      "metadata": {
        "id": "pFdpnQnX-AtJ"
      },
      "execution_count": null,
      "outputs": []
    },
    {
      "cell_type": "markdown",
      "source": [
        "## Load data"
      ],
      "metadata": {
        "id": "PQjNrr249n3E"
      }
    },
    {
      "cell_type": "code",
      "source": [
        "df = pd.read_csv(DATA_PATH)"
      ],
      "metadata": {
        "id": "8qwmlOvg9lMr"
      },
      "execution_count": null,
      "outputs": []
    },
    {
      "cell_type": "code",
      "source": [
        "print(df.head())"
      ],
      "metadata": {
        "colab": {
          "base_uri": "https://localhost:8080/"
        },
        "id": "03SlSDbHTj1D",
        "outputId": "f5e23cdf-9c75-4305-f951-7bed174634a9"
      },
      "execution_count": null,
      "outputs": [
        {
          "output_type": "stream",
          "name": "stdout",
          "text": [
            "   id_student gender            region            highest_education imd_band  \\\n",
            "0      646402      M          Scotland  Post Graduate Qualification   50-60%   \n",
            "1      522538      F     London Region        A Level or Equivalent   50-60%   \n",
            "2      675178      F             Wales        A Level or Equivalent   80-90%   \n",
            "3      565273      F  Yorkshire Region        A Level or Equivalent   30-40%   \n",
            "4      544519      F      North Region           Lower Than A Level    0-10%   \n",
            "\n",
            "  age_band  num_of_prev_attempts  studied_credits disability final_result  \\\n",
            "0     0-35                     0              120          N         Pass   \n",
            "1     0-35                     1               60          N    Withdrawn   \n",
            "2     0-35                     0               60          N    Withdrawn   \n",
            "3     0-35                     0              120          N  Distinction   \n",
            "4     0-35                     0               60          N         Fail   \n",
            "\n",
            "  course_instance  early_assessment_avg  \n",
            "0       FFF_2014J             70.000000  \n",
            "1       DDD_2013J             76.666667  \n",
            "2       BBB_2014J             70.000000  \n",
            "3       BBB_2014J             70.000000  \n",
            "4       BBB_2013B             60.400000  \n"
          ]
        }
      ]
    },
    {
      "cell_type": "code",
      "source": [
        "# Drop id column\n",
        "df.drop(['id_student'], axis=1, inplace=True)"
      ],
      "metadata": {
        "id": "voRr_0xy2l_A"
      },
      "execution_count": null,
      "outputs": []
    },
    {
      "cell_type": "markdown",
      "source": [
        "## Preprocessing (These will be moved to a .py file later)"
      ],
      "metadata": {
        "id": "YP1dGX_X9n5n"
      }
    },
    {
      "cell_type": "markdown",
      "source": [
        "### Combine fail/withdraw and pass/distinction for binary prediction (at first)"
      ],
      "metadata": {
        "id": "2t6DMGib213x"
      }
    },
    {
      "cell_type": "code",
      "source": [
        "df['fail'] = df['final_result'].apply(lambda x: 1 if x in ['Fail', 'Withdrawn'] else 0)"
      ],
      "metadata": {
        "id": "KlAAXJOM22dj"
      },
      "execution_count": null,
      "outputs": []
    },
    {
      "cell_type": "markdown",
      "source": [
        "### Split into training and test sets"
      ],
      "metadata": {
        "id": "FRBgxIy03nDG"
      }
    },
    {
      "cell_type": "code",
      "source": [
        "from sklearn.model_selection import train_test_split\n",
        "\n",
        "X = df.drop(['final_result', 'fail'], axis=1)  # Dropping the target columns\n",
        "y = df['fail']\n",
        "\n",
        "X_train, X_test, y_train, y_test = train_test_split(X, y, test_size=0.2, random_state=9001)"
      ],
      "metadata": {
        "id": "fcTQQHqq3ncq"
      },
      "execution_count": null,
      "outputs": []
    },
    {
      "cell_type": "markdown",
      "source": [
        "### Missing values"
      ],
      "metadata": {
        "id": "20PYZjF5On8C"
      }
    },
    {
      "cell_type": "code",
      "source": [
        "# Check how many values are missing\n",
        "print(X_train.isnull().sum())"
      ],
      "metadata": {
        "id": "AP8jt25eZJEJ",
        "colab": {
          "base_uri": "https://localhost:8080/"
        },
        "outputId": "5384f7c0-43b3-4fb7-935c-34a7e7c8bd8a"
      },
      "execution_count": null,
      "outputs": [
        {
          "output_type": "stream",
          "name": "stdout",
          "text": [
            "gender                    0\n",
            "region                    0\n",
            "highest_education         0\n",
            "imd_band                256\n",
            "age_band                  0\n",
            "num_of_prev_attempts      0\n",
            "studied_credits           0\n",
            "disability                0\n",
            "course_instance           0\n",
            "early_assessment_avg     19\n",
            "dtype: int64\n"
          ]
        }
      ]
    },
    {
      "cell_type": "code",
      "source": [
        "# Since there are not too many missing values, we can take the mode for imd_band\n",
        "X_train['imd_band'].fillna(X_train['imd_band'].mode()[0], inplace=True)\n",
        "X_test['imd_band'].fillna(X_test['imd_band'].mode()[0], inplace=True)\n",
        "\n",
        "# Mean imputation for early assessment grade average\n",
        "X_train['early_assessment_avg'].fillna(X_train['early_assessment_avg'].mean(), inplace=True)\n",
        "X_test['early_assessment_avg'].fillna(X_test['early_assessment_avg'].mean(), inplace=True)\n",
        "\n",
        "print(X_train.isnull().sum())"
      ],
      "metadata": {
        "id": "I3-mXMHrZJGi",
        "colab": {
          "base_uri": "https://localhost:8080/"
        },
        "outputId": "d655d6a9-292a-43fa-95ac-6ff98f3d62fa"
      },
      "execution_count": null,
      "outputs": [
        {
          "output_type": "stream",
          "name": "stdout",
          "text": [
            "gender                  0\n",
            "region                  0\n",
            "highest_education       0\n",
            "imd_band                0\n",
            "age_band                0\n",
            "num_of_prev_attempts    0\n",
            "studied_credits         0\n",
            "disability              0\n",
            "course_instance         0\n",
            "early_assessment_avg    0\n",
            "dtype: int64\n"
          ]
        }
      ]
    },
    {
      "cell_type": "markdown",
      "source": [
        "### Label encode binary features"
      ],
      "metadata": {
        "id": "m8DAVpgOt1em"
      }
    },
    {
      "cell_type": "code",
      "source": [
        "from sklearn.preprocessing import LabelEncoder, OneHotEncoder"
      ],
      "metadata": {
        "id": "xxRTvT0ISK5A"
      },
      "execution_count": null,
      "outputs": []
    },
    {
      "cell_type": "code",
      "source": [
        "# Lists for each type of feature to encode\n",
        "# List of binary columns\n",
        "binary = ['gender', 'disability']\n",
        "\n",
        "# List of categorical columns\n",
        "categorical = ['course_instance', 'region']\n",
        "\n",
        "# List of ordinal columns\n",
        "ordinal = {'highest_education': [\\\n",
        "              'No Formal quals', \\\n",
        "              'Lower Than A Level', \\\n",
        "              'A Level or Equivalent', \\\n",
        "              'HE Qualification', \\\n",
        "              'Post Graduate Qualification'], \\\n",
        "           'imd_band': [\\\n",
        "              '0-10%', \\\n",
        "              '10-20', \\\n",
        "              '20-30%', \\\n",
        "              '30-40%', \\\n",
        "              '40-50%', \\\n",
        "              '50-60%', \\\n",
        "              '60-70%', \\\n",
        "              '70-80%', \\\n",
        "              '80-90%', \\\n",
        "              '90-100%'], \\\n",
        "           'age_band': [\\\n",
        "              '0-35', \\\n",
        "              '35-55', \\\n",
        "              '55<=']}"
      ],
      "metadata": {
        "id": "OLFEVTkmZJU0"
      },
      "execution_count": null,
      "outputs": []
    },
    {
      "cell_type": "code",
      "source": [
        "# Label encode binary features\n",
        "label_encoder = LabelEncoder()\n",
        "\n",
        "for feature in binary:\n",
        "  label_encoder.fit(X_train[feature])\n",
        "  X_train[feature] = label_encoder.transform(X_train[feature])\n",
        "  X_test[feature] = label_encoder.transform(X_test[feature])"
      ],
      "metadata": {
        "id": "As8phxHgzW3R"
      },
      "execution_count": null,
      "outputs": []
    },
    {
      "cell_type": "code",
      "source": [
        "# Label encode ordinal features in order\n",
        "for feature, order in ordinal.items():\n",
        "  label_encoder = LabelEncoder()\n",
        "  label_encoder.fit(order)\n",
        "  X_train[feature] = label_encoder.transform(X_train[feature])\n",
        "  X_test[feature] = label_encoder.transform(X_test[feature])"
      ],
      "metadata": {
        "id": "8SeEjCGYzh2V"
      },
      "execution_count": null,
      "outputs": []
    },
    {
      "cell_type": "code",
      "source": [
        "# One hot encode categorical features\n",
        "X_train = pd.get_dummies(X_train, columns=categorical)\n",
        "X_test = pd.get_dummies(X_test, columns=categorical)"
      ],
      "metadata": {
        "id": "B_RTQFh2zhb6"
      },
      "execution_count": null,
      "outputs": []
    },
    {
      "cell_type": "code",
      "source": [
        "# Because there a some categories with very few instances,\n",
        "# make sure all the features are in both sets\n",
        "# Add the missing columns filled with zeros\n",
        "for col in X_train.columns:\n",
        "  if col not in X_test.columns:\n",
        "    X_test[col] = 0\n",
        "\n",
        "# Reorder test columns to match the order in training set\n",
        "X_test = X_test[X_train.columns]"
      ],
      "metadata": {
        "id": "FPczXIJj4JJr"
      },
      "execution_count": null,
      "outputs": []
    },
    {
      "cell_type": "markdown",
      "source": [
        "# Normalize data"
      ],
      "metadata": {
        "id": "9R0Mzmxc9n7t"
      }
    },
    {
      "cell_type": "code",
      "source": [
        "from sklearn.preprocessing import StandardScaler\n",
        "\n",
        "scaler = StandardScaler()\n",
        "X_train = scaler.fit_transform(X_train)\n",
        "X_test = scaler.transform(X_test)"
      ],
      "metadata": {
        "id": "QUsGlydi4rbK"
      },
      "execution_count": null,
      "outputs": []
    },
    {
      "cell_type": "markdown",
      "source": [
        "## Train Rotation Forest Model"
      ],
      "metadata": {
        "id": "dO_WeY089n9u"
      }
    },
    {
      "cell_type": "code",
      "source": [
        "import numpy as np\n",
        "from sklearn.decomposition import PCA\n",
        "from sklearn.ensemble import RandomForestClassifier\n",
        "from sklearn.model_selection import train_test_split\n",
        "from sklearn.datasets import make_classification"
      ],
      "metadata": {
        "id": "j0kGSLbq6vXx"
      },
      "execution_count": null,
      "outputs": []
    },
    {
      "cell_type": "code",
      "source": [
        "# Rotation Forest Parameters\n",
        "num_pca_components = 5\n",
        "num_random_forests = 10"
      ],
      "metadata": {
        "id": "3yGxrzaY6_gq"
      },
      "execution_count": null,
      "outputs": []
    },
    {
      "cell_type": "code",
      "source": [
        "# Rotation Forest Algorithm\n",
        "def rotation_forest(X_train, y_train, num_pca_components, num_random_forests):\n",
        "    base_classifiers = []\n",
        "    for i in range(num_random_forests):\n",
        "        # Apply PCA\n",
        "        pca = PCA(n_components=num_pca_components)\n",
        "        X_train_transformed = pca.fit_transform(X_train)\n",
        "\n",
        "        # Train a Random Forest Classifier on the transformed data\n",
        "        rf = RandomForestClassifier()\n",
        "        rf.fit(X_train_transformed, y_train)\n",
        "\n",
        "        # Store the PCA and Random Forest pair\n",
        "        base_classifiers.append((pca, rf))\n",
        "\n",
        "    return base_classifiers\n",
        "\n",
        "# Time model training duration\n",
        "start_time = time.time()\n",
        "base_classifiers = rotation_forest(X_train, y_train, num_pca_components, num_random_forests)\n",
        "# Record model train duration end time\n",
        "end_time = time.time()"
      ],
      "metadata": {
        "id": "Peig5PUX6_5R"
      },
      "execution_count": null,
      "outputs": []
    },
    {
      "cell_type": "code",
      "source": [
        "elapsed_time = end_time - start_time\n",
        "print(f\"Time taken for training: {elapsed_time:.2f} seconds\")"
      ],
      "metadata": {
        "id": "-fdLmK4hCeBf",
        "colab": {
          "base_uri": "https://localhost:8080/"
        },
        "outputId": "618bee45-4845-49d2-b002-ddf580fcc5f7"
      },
      "execution_count": null,
      "outputs": [
        {
          "output_type": "stream",
          "name": "stdout",
          "text": [
            "Time taken for training: 19.31 seconds\n"
          ]
        }
      ]
    },
    {
      "cell_type": "markdown",
      "source": [
        "## Evaluate Model"
      ],
      "metadata": {
        "id": "v5vwwbeM8bDR"
      }
    },
    {
      "cell_type": "code",
      "source": [
        "# Prediction function\n",
        "def predict_proba_rotation_forest(X, base_classifiers):\n",
        "    probabilities = []\n",
        "    for pca, rf in base_classifiers:\n",
        "        X_transformed = pca.transform(X)\n",
        "        prob = rf.predict_proba(X_transformed)[:, 1]  # get probability of class 1\n",
        "        probabilities.append(prob)\n",
        "\n",
        "    # Average the probabilities\n",
        "    avg_prob = np.mean(probabilities, axis=0)\n",
        "    return avg_prob\n",
        "\n",
        "y_prob = predict_proba_rotation_forest(X_test, base_classifiers)"
      ],
      "metadata": {
        "id": "JysO_2BJArcD"
      },
      "execution_count": null,
      "outputs": []
    },
    {
      "cell_type": "markdown",
      "source": [
        "### ROC curve"
      ],
      "metadata": {
        "id": "6wV3vECe8vcz"
      }
    },
    {
      "cell_type": "code",
      "source": [
        "import matplotlib.pyplot as plt\n",
        "from sklearn.metrics import roc_curve, auc"
      ],
      "metadata": {
        "id": "3I5XsVjC8d6_"
      },
      "execution_count": null,
      "outputs": []
    },
    {
      "cell_type": "code",
      "source": [
        "# Calculate the ROC curve\n",
        "fpr, tpr, _ = roc_curve(y_test, y_prob)\n",
        "# Compute AUC\n",
        "roc_auc = auc(fpr, tpr)"
      ],
      "metadata": {
        "id": "FOuEUMdT8eNN"
      },
      "execution_count": null,
      "outputs": []
    },
    {
      "cell_type": "code",
      "source": [
        "# Plot figure\n",
        "plt.figure()\n",
        "plt.plot(fpr, tpr, color='darkorange', lw=1, label='ROC curve (area = %0.2f)' % roc_auc)\n",
        "plt.plot([0, 1], [0, 1], color='navy', lw=1, linestyle='--')\n",
        "plt.xlim([0.0, 1.0])\n",
        "plt.ylim([0.0, 1.05])\n",
        "plt.xlabel('False Positive Rate')\n",
        "plt.ylabel('True Positive Rate')\n",
        "plt.title('Receiver Operating Characteristic')\n",
        "plt.legend(loc='lower right')\n",
        "plt.show()"
      ],
      "metadata": {
        "colab": {
          "base_uri": "https://localhost:8080/",
          "height": 472
        },
        "id": "-Kf8_oYs9H8O",
        "outputId": "0babd5e3-209f-46b1-af56-b02dcfca413e"
      },
      "execution_count": null,
      "outputs": [
        {
          "output_type": "display_data",
          "data": {
            "text/plain": [
              "<Figure size 640x480 with 1 Axes>"
            ],
            "image/png": "[encoded data removed]"
          },
          "metadata": {}
        }
      ]
    }
  ]
}