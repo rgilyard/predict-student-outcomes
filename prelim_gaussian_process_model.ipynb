{
  "nbformat": 4,
  "nbformat_minor": 0,
  "metadata": {
    "colab": {
      "provenance": [],
      "machine_shape": "hm",
      "authorship_tag": "ABX9TyODDSPYgvanhCxsK2TwYwZp",
      "include_colab_link": true
    },
    "kernelspec": {
      "name": "python3",
      "display_name": "Python 3"
    },
    "language_info": {
      "name": "python"
    }
  },
  "cells": [
    {
      "cell_type": "markdown",
      "metadata": {
        "id": "view-in-github",
        "colab_type": "text"
      },
      "source": [
        "<a href=\"https://colab.research.google.com/github/rgilyard/predict-student-outcomes/blob/main/prelim_gaussian_process_model.ipynb\" target=\"_parent\"><img src=\"https://colab.research.google.com/assets/colab-badge.svg\" alt=\"Open In Colab\"/></a>"
      ]
    },
    {
      "cell_type": "markdown",
      "source": [
        "# Preliminary Results for a Gaussian Process Classifier for Student Failure and Dropout Prediction"
      ],
      "metadata": {
        "id": "YfIoAQNG9nwZ"
      }
    },
    {
      "cell_type": "markdown",
      "source": [
        "## Constants"
      ],
      "metadata": {
        "id": "_0eY06xZ99gn"
      }
    },
    {
      "cell_type": "code",
      "execution_count": 1,
      "metadata": {
        "id": "KG2J95fu75r5"
      },
      "outputs": [],
      "source": [
        "DATA_PATH = '/content/drive/MyDrive/COMP 542 Group Project/data/prelim_sample_engineered_student_info_large.csv'"
      ]
    },
    {
      "cell_type": "markdown",
      "source": [
        "## Mount Google Drive"
      ],
      "metadata": {
        "id": "mkxV-oZ99pFb"
      }
    },
    {
      "cell_type": "code",
      "source": [
        "from google.colab import drive\n",
        "drive.mount('/content/drive')"
      ],
      "metadata": {
        "colab": {
          "base_uri": "https://localhost:8080/"
        },
        "id": "yde0R9ki9pP6",
        "outputId": "2978b477-e719-42b7-f7be-2ac07ef35270"
      },
      "execution_count": 2,
      "outputs": [
        {
          "output_type": "stream",
          "name": "stdout",
          "text": [
            "Mounted at /content/drive\n"
          ]
        }
      ]
    },
    {
      "cell_type": "markdown",
      "source": [
        "## Libraries"
      ],
      "metadata": {
        "id": "IB9CeEtK9ny_"
      }
    },
    {
      "cell_type": "code",
      "source": [
        "import pandas as pd\n",
        "import time\n",
        "from joblib import dump\n",
        "from datetime import datetime"
      ],
      "metadata": {
        "id": "pFdpnQnX-AtJ"
      },
      "execution_count": 3,
      "outputs": []
    },
    {
      "cell_type": "markdown",
      "source": [
        "## Load data"
      ],
      "metadata": {
        "id": "PQjNrr249n3E"
      }
    },
    {
      "cell_type": "code",
      "source": [
        "df = pd.read_csv(DATA_PATH)"
      ],
      "metadata": {
        "id": "8qwmlOvg9lMr"
      },
      "execution_count": 4,
      "outputs": []
    },
    {
      "cell_type": "code",
      "source": [
        "print(df.head())"
      ],
      "metadata": {
        "colab": {
          "base_uri": "https://localhost:8080/"
        },
        "id": "03SlSDbHTj1D",
        "outputId": "7fe6d8f9-1763-417e-cb9b-6c1a68f86b7d"
      },
      "execution_count": 5,
      "outputs": [
        {
          "output_type": "stream",
          "name": "stdout",
          "text": [
            "   id_student gender                region      highest_education imd_band  \\\n",
            "0       11391      M   East Anglian Region       HE Qualification  90-100%   \n",
            "1       28400      F              Scotland       HE Qualification   20-30%   \n",
            "2       30268      F  North Western Region  A Level or Equivalent   30-40%   \n",
            "3       31604      F     South East Region  A Level or Equivalent   50-60%   \n",
            "4       32885      F  West Midlands Region     Lower Than A Level   50-60%   \n",
            "\n",
            "  age_band  num_of_prev_attempts  studied_credits disability final_result  \\\n",
            "0     55<=                     0              240          N         Pass   \n",
            "1    35-55                     0               60          N         Pass   \n",
            "2    35-55                     0               60          Y    Withdrawn   \n",
            "3    35-55                     0               60          N         Pass   \n",
            "4     0-35                     0               60          N         Pass   \n",
            "\n",
            "  course_instance  early_assessment_avg  \n",
            "0       AAA_2013J                  81.5  \n",
            "1       AAA_2013J                  69.0  \n",
            "2       AAA_2013J                  70.0  \n",
            "3       AAA_2013J                  71.5  \n",
            "4       AAA_2013J                  49.5  \n"
          ]
        }
      ]
    },
    {
      "cell_type": "code",
      "source": [
        "# Drop id column\n",
        "df.drop(['id_student'], axis=1, inplace=True)"
      ],
      "metadata": {
        "id": "voRr_0xy2l_A"
      },
      "execution_count": 6,
      "outputs": []
    },
    {
      "cell_type": "markdown",
      "source": [
        "## Preprocessing (These will be moved to a .py file later)"
      ],
      "metadata": {
        "id": "YP1dGX_X9n5n"
      }
    },
    {
      "cell_type": "markdown",
      "source": [
        "### Combine fail/withdraw and pass/distinction for binary prediction (at first)"
      ],
      "metadata": {
        "id": "2t6DMGib213x"
      }
    },
    {
      "cell_type": "code",
      "source": [
        "df['fail'] = df['final_result'].apply(lambda x: 1 if x in ['Fail', 'Withdrawn'] else 0)"
      ],
      "metadata": {
        "id": "KlAAXJOM22dj"
      },
      "execution_count": 7,
      "outputs": []
    },
    {
      "cell_type": "markdown",
      "source": [
        "### Split into training and test sets"
      ],
      "metadata": {
        "id": "FRBgxIy03nDG"
      }
    },
    {
      "cell_type": "code",
      "source": [
        "from sklearn.model_selection import train_test_split\n",
        "\n",
        "X = df.drop(['final_result', 'fail'], axis=1)  # Dropping the target columns\n",
        "y = df['fail']\n",
        "\n",
        "X_train, X_test, y_train, y_test = train_test_split(X, y, test_size=0.2, random_state=9001)"
      ],
      "metadata": {
        "id": "fcTQQHqq3ncq"
      },
      "execution_count": 8,
      "outputs": []
    },
    {
      "cell_type": "markdown",
      "source": [
        "### Missing values"
      ],
      "metadata": {
        "id": "20PYZjF5On8C"
      }
    },
    {
      "cell_type": "code",
      "source": [
        "# Check how many values are missing\n",
        "print(X_train.isnull().sum())"
      ],
      "metadata": {
        "id": "AP8jt25eZJEJ",
        "colab": {
          "base_uri": "https://localhost:8080/"
        },
        "outputId": "df991885-47fe-489e-9dbc-4e6bf3e1c8d3"
      },
      "execution_count": 9,
      "outputs": [
        {
          "output_type": "stream",
          "name": "stdout",
          "text": [
            "gender                    0\n",
            "region                    0\n",
            "highest_education         0\n",
            "imd_band                862\n",
            "age_band                  0\n",
            "num_of_prev_attempts      0\n",
            "studied_credits           0\n",
            "disability                0\n",
            "course_instance           0\n",
            "early_assessment_avg     43\n",
            "dtype: int64\n"
          ]
        }
      ]
    },
    {
      "cell_type": "code",
      "source": [
        "# Since there are not too many missing values, we can take the mode for imd_band\n",
        "X_train['imd_band'].fillna(X_train['imd_band'].mode()[0], inplace=True)\n",
        "X_test['imd_band'].fillna(X_test['imd_band'].mode()[0], inplace=True)\n",
        "\n",
        "# Mean imputation for early assessment grade average\n",
        "X_train['early_assessment_avg'].fillna(X_train['early_assessment_avg'].mean(), inplace=True)\n",
        "X_test['early_assessment_avg'].fillna(X_test['early_assessment_avg'].mean(), inplace=True)\n",
        "\n",
        "print(X_train.isnull().sum())"
      ],
      "metadata": {
        "id": "I3-mXMHrZJGi",
        "colab": {
          "base_uri": "https://localhost:8080/"
        },
        "outputId": "da2d0c66-061f-44c4-b0b4-2b380be816bf"
      },
      "execution_count": 10,
      "outputs": [
        {
          "output_type": "stream",
          "name": "stdout",
          "text": [
            "gender                  0\n",
            "region                  0\n",
            "highest_education       0\n",
            "imd_band                0\n",
            "age_band                0\n",
            "num_of_prev_attempts    0\n",
            "studied_credits         0\n",
            "disability              0\n",
            "course_instance         0\n",
            "early_assessment_avg    0\n",
            "dtype: int64\n"
          ]
        }
      ]
    },
    {
      "cell_type": "markdown",
      "source": [
        "### Label encode binary features"
      ],
      "metadata": {
        "id": "m8DAVpgOt1em"
      }
    },
    {
      "cell_type": "code",
      "source": [
        "from sklearn.preprocessing import LabelEncoder, OneHotEncoder"
      ],
      "metadata": {
        "id": "xxRTvT0ISK5A"
      },
      "execution_count": 11,
      "outputs": []
    },
    {
      "cell_type": "code",
      "source": [
        "# Lists for each type of feature to encode\n",
        "# List of binary columns\n",
        "binary = ['gender', 'disability']\n",
        "\n",
        "# List of categorical columns\n",
        "categorical = ['course_instance', 'region']\n",
        "\n",
        "# List of ordinal columns\n",
        "ordinal = {'highest_education': [\\\n",
        "              'No Formal quals', \\\n",
        "              'Lower Than A Level', \\\n",
        "              'A Level or Equivalent', \\\n",
        "              'HE Qualification', \\\n",
        "              'Post Graduate Qualification'], \\\n",
        "           'imd_band': [\\\n",
        "              '0-10%', \\\n",
        "              '10-20', \\\n",
        "              '20-30%', \\\n",
        "              '30-40%', \\\n",
        "              '40-50%', \\\n",
        "              '50-60%', \\\n",
        "              '60-70%', \\\n",
        "              '70-80%', \\\n",
        "              '80-90%', \\\n",
        "              '90-100%'], \\\n",
        "           'age_band': [\\\n",
        "              '0-35', \\\n",
        "              '35-55', \\\n",
        "              '55<=']}"
      ],
      "metadata": {
        "id": "OLFEVTkmZJU0"
      },
      "execution_count": 12,
      "outputs": []
    },
    {
      "cell_type": "code",
      "source": [
        "# Label encode binary features\n",
        "label_encoder = LabelEncoder()\n",
        "\n",
        "for feature in binary:\n",
        "  label_encoder.fit(X_train[feature])\n",
        "  X_train[feature] = label_encoder.transform(X_train[feature])\n",
        "  X_test[feature] = label_encoder.transform(X_test[feature])"
      ],
      "metadata": {
        "id": "As8phxHgzW3R"
      },
      "execution_count": 13,
      "outputs": []
    },
    {
      "cell_type": "code",
      "source": [
        "# Label encode ordinal features in order\n",
        "for feature, order in ordinal.items():\n",
        "  label_encoder = LabelEncoder()\n",
        "  label_encoder.fit(order)\n",
        "  X_train[feature] = label_encoder.transform(X_train[feature])\n",
        "  X_test[feature] = label_encoder.transform(X_test[feature])"
      ],
      "metadata": {
        "id": "8SeEjCGYzh2V"
      },
      "execution_count": 14,
      "outputs": []
    },
    {
      "cell_type": "code",
      "source": [
        "# One hot encode categorical features\n",
        "X_train = pd.get_dummies(X_train, columns=categorical)\n",
        "X_test = pd.get_dummies(X_test, columns=categorical)"
      ],
      "metadata": {
        "id": "B_RTQFh2zhb6"
      },
      "execution_count": 15,
      "outputs": []
    },
    {
      "cell_type": "code",
      "source": [
        "# Because there a some categories with very few instances,\n",
        "# make sure all the features are in both sets\n",
        "# Add the missing columns filled with zeros\n",
        "for col in X_train.columns:\n",
        "  if col not in X_test.columns:\n",
        "    X_test[col] = 0\n",
        "\n",
        "# Reorder test columns to match the order in training set\n",
        "X_test = X_test[X_train.columns]"
      ],
      "metadata": {
        "id": "FPczXIJj4JJr"
      },
      "execution_count": 16,
      "outputs": []
    },
    {
      "cell_type": "markdown",
      "source": [
        "# Normalize data"
      ],
      "metadata": {
        "id": "9R0Mzmxc9n7t"
      }
    },
    {
      "cell_type": "code",
      "source": [
        "from sklearn.preprocessing import StandardScaler\n",
        "\n",
        "scaler = StandardScaler()\n",
        "X_train = scaler.fit_transform(X_train)\n",
        "X_test = scaler.transform(X_test)"
      ],
      "metadata": {
        "id": "QUsGlydi4rbK"
      },
      "execution_count": 17,
      "outputs": []
    },
    {
      "cell_type": "markdown",
      "source": [
        "## Train Gaussian Process Model"
      ],
      "metadata": {
        "id": "dO_WeY089n9u"
      }
    },
    {
      "cell_type": "code",
      "source": [
        "from sklearn.gaussian_process import GaussianProcessClassifier\n",
        "from sklearn.gaussian_process.kernels import RBF"
      ],
      "metadata": {
        "id": "j0kGSLbq6vXx"
      },
      "execution_count": 18,
      "outputs": []
    },
    {
      "cell_type": "code",
      "source": [
        "# Initialize the Kernel and the Classifiers\n",
        "# kernel = 1.0 * RBF(1.0)  # RBF kernel with length scale of 1.0\n",
        "kernel = 1.0 * RBF(length_scale=1.0, length_scale_bounds=(1e-6, 1e+6))\n",
        "gp_classifier = GaussianProcessClassifier(kernel=kernel)"
      ],
      "metadata": {
        "id": "3yGxrzaY6_gq"
      },
      "execution_count": 19,
      "outputs": []
    },
    {
      "cell_type": "code",
      "source": [
        "# Time model training duration\n",
        "start_time = time.time()\n",
        "start_datetime = datetime.fromtimestamp(start_time)\n",
        "print(\"Start time:\", start_datetime.strftime('%Y-%m-%d %H:%M:%S'))\n",
        "# Train model\n",
        "gp_classifier = GaussianProcessClassifier(kernel=kernel, n_jobs=-1)\n",
        "gp_classifier.fit(X_train, y_train)\n",
        "# Record model train duration end time\n",
        "end_time = time.time()"
      ],
      "metadata": {
        "id": "Peig5PUX6_5R",
        "colab": {
          "base_uri": "https://localhost:8080/"
        },
        "outputId": "20fc8a07-fb19-4cfc-a596-eb5ff07b8f7a"
      },
      "execution_count": 20,
      "outputs": [
        {
          "output_type": "stream",
          "name": "stdout",
          "text": [
            "Start time: 2023-10-17 23:07:18\n"
          ]
        }
      ]
    },
    {
      "cell_type": "code",
      "source": [
        "# Save model\n",
        "# Get current date and time\n",
        "now = datetime.now()\n",
        "# Format datetime object to string\n",
        "formatted_date_time = now.strftime(\"%Y-%m-%d_%H-%M-%S\")\n",
        "# Append datetime to file name\n",
        "model_name_with_datetime = f'/content/drive/MyDrive/COMP 542 Group Project/models/gaussian_20000_{formatted_date_time}.joblib'\n",
        "dump(gp_classifier, model_name_with_datetime)"
      ],
      "metadata": {
        "id": "O8aY2AODVuQy",
        "colab": {
          "base_uri": "https://localhost:8080/"
        },
        "outputId": "f50178b9-5be4-4429-c514-3c0f4c042ae3"
      },
      "execution_count": 21,
      "outputs": [
        {
          "output_type": "execute_result",
          "data": {
            "text/plain": [
              "['/content/drive/MyDrive/COMP 542 Group Project/models/gaussian_20000_2023-10-18_06-23-21.joblib']"
            ]
          },
          "metadata": {},
          "execution_count": 21
        }
      ]
    },
    {
      "cell_type": "code",
      "source": [
        "elapsed_time = end_time - start_time\n",
        "print(f\"Time taken for training: {elapsed_time:.2f} seconds\")"
      ],
      "metadata": {
        "id": "IZvBETNMCY65",
        "colab": {
          "base_uri": "https://localhost:8080/"
        },
        "outputId": "e9c2f372-646f-4bde-c01b-0e41101c82bc"
      },
      "execution_count": 22,
      "outputs": [
        {
          "output_type": "stream",
          "name": "stdout",
          "text": [
            "Time taken for training: 26163.71 seconds\n"
          ]
        }
      ]
    },
    {
      "cell_type": "markdown",
      "source": [
        "## Evaluate Model"
      ],
      "metadata": {
        "id": "v5vwwbeM8bDR"
      }
    },
    {
      "cell_type": "code",
      "source": [
        "# Evaluate Model\n",
        "score = gp_classifier.score(X_test, y_test)\n",
        "print(\"Model Accuracy: {:.2f}%\".format(score * 100))"
      ],
      "metadata": {
        "id": "1e_SeuhO7AH2",
        "colab": {
          "base_uri": "https://localhost:8080/"
        },
        "outputId": "18c25c10-f0a2-4f92-edeb-c81fe93215c3"
      },
      "execution_count": 23,
      "outputs": [
        {
          "output_type": "stream",
          "name": "stdout",
          "text": [
            "Model Accuracy: 71.81%\n"
          ]
        }
      ]
    },
    {
      "cell_type": "code",
      "source": [
        "# Make Predictions\n",
        "y_prob = gp_classifier.predict_proba(X_test)[:, 1]  # Probabilities of the positive class"
      ],
      "metadata": {
        "id": "5sho3kWH7Afz"
      },
      "execution_count": 24,
      "outputs": []
    },
    {
      "cell_type": "markdown",
      "source": [
        "### ROC curve"
      ],
      "metadata": {
        "id": "6wV3vECe8vcz"
      }
    },
    {
      "cell_type": "code",
      "source": [
        "import matplotlib.pyplot as plt\n",
        "from sklearn.metrics import roc_curve, auc"
      ],
      "metadata": {
        "id": "3I5XsVjC8d6_"
      },
      "execution_count": 25,
      "outputs": []
    },
    {
      "cell_type": "code",
      "source": [
        "# Calculate the ROC curve\n",
        "fpr, tpr, thresholds = roc_curve(y_test, y_prob)\n",
        "# Compute AUC\n",
        "roc_auc = auc(fpr, tpr)"
      ],
      "metadata": {
        "id": "FOuEUMdT8eNN"
      },
      "execution_count": 26,
      "outputs": []
    },
    {
      "cell_type": "code",
      "source": [
        "# Plot figure\n",
        "plt.figure()\n",
        "plt.plot(fpr, tpr, color='darkorange', lw=1, label='ROC curve (area = %0.2f)' % roc_auc)\n",
        "plt.plot([0, 1], [0, 1], color='navy', lw=1, linestyle='--')\n",
        "plt.xlim([0.0, 1.0])\n",
        "plt.ylim([0.0, 1.05])\n",
        "plt.xlabel('False Positive Rate')\n",
        "plt.ylabel('True Positive Rate')\n",
        "plt.title('Receiver Operating Characteristic')\n",
        "plt.legend(loc='lower right')\n",
        "plt.show()"
      ],
      "metadata": {
        "id": "-Kf8_oYs9H8O",
        "colab": {
          "base_uri": "https://localhost:8080/",
          "height": 472
        },
        "outputId": "f8c43dca-396f-4594-ceee-4e07a97abbb1"
      },
      "execution_count": 27,
      "outputs": [
        {
          "output_type": "display_data",
          "data": {
            "text/plain": [
              "<Figure size 640x480 with 1 Axes>"
            ],
            "image/png": "[encoded data removed]"
          },
          "metadata": {}
        }
      ]
    }
  ]
}